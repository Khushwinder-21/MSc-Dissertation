{
 "cells": [
  {
   "cell_type": "code",
   "execution_count": 1,
   "id": "f9e6484b",
   "metadata": {},
   "outputs": [],
   "source": [
    "import pandas as pd\n",
    "import numpy as np\n",
    "import matplotlib.pyplot as plt"
   ]
  },
  {
   "cell_type": "code",
   "execution_count": 5,
   "id": "19767481",
   "metadata": {},
   "outputs": [],
   "source": [
    "surgery = pd.read_csv('C:/Users/CSC/Documents/Dissertation/MSc-Dissertation/data/new_data_ref_dates.csv')"
   ]
  },
  {
   "cell_type": "code",
   "execution_count": 6,
   "id": "21644d08",
   "metadata": {},
   "outputs": [
    {
     "data": {
      "text/html": [
       "<div>\n",
       "<style scoped>\n",
       "    .dataframe tbody tr th:only-of-type {\n",
       "        vertical-align: middle;\n",
       "    }\n",
       "\n",
       "    .dataframe tbody tr th {\n",
       "        vertical-align: top;\n",
       "    }\n",
       "\n",
       "    .dataframe thead th {\n",
       "        text-align: right;\n",
       "    }\n",
       "</style>\n",
       "<table border=\"1\" class=\"dataframe\">\n",
       "  <thead>\n",
       "    <tr style=\"text-align: right;\">\n",
       "      <th></th>\n",
       "      <th>HRG</th>\n",
       "      <th>Activity Type</th>\n",
       "      <th>Provider</th>\n",
       "      <th>Local Patient Identifier</th>\n",
       "      <th>LSOA</th>\n",
       "      <th>HRG Description</th>\n",
       "      <th>Fin Year</th>\n",
       "      <th>Fin Month</th>\n",
       "      <th>Start_clock_date</th>\n",
       "      <th>End_clock_date</th>\n",
       "      <th>Priority</th>\n",
       "      <th>Independent Sector</th>\n",
       "    </tr>\n",
       "  </thead>\n",
       "  <tbody>\n",
       "    <tr>\n",
       "      <th>0</th>\n",
       "      <td>BZ31A</td>\n",
       "      <td>Inpatient/Day Case</td>\n",
       "      <td>ANGLIA COMMUNITY EYE SERVICE LTD</td>\n",
       "      <td>62721612</td>\n",
       "      <td>NaN</td>\n",
       "      <td>Very Major, Cataract or Lens Procedures, with ...</td>\n",
       "      <td>2024/25</td>\n",
       "      <td>9</td>\n",
       "      <td>12/18/2024</td>\n",
       "      <td>12/20/2024</td>\n",
       "      <td>1</td>\n",
       "      <td>Yes</td>\n",
       "    </tr>\n",
       "    <tr>\n",
       "      <th>1</th>\n",
       "      <td>BZ31A</td>\n",
       "      <td>Inpatient/Day Case</td>\n",
       "      <td>ANGLIA COMMUNITY EYE SERVICE LTD</td>\n",
       "      <td>51568750</td>\n",
       "      <td>NaN</td>\n",
       "      <td>Very Major, Cataract or Lens Procedures, with ...</td>\n",
       "      <td>2024/25</td>\n",
       "      <td>9</td>\n",
       "      <td>11/27/2024</td>\n",
       "      <td>12/13/2024</td>\n",
       "      <td>1</td>\n",
       "      <td>Yes</td>\n",
       "    </tr>\n",
       "    <tr>\n",
       "      <th>2</th>\n",
       "      <td>BZ31A</td>\n",
       "      <td>Inpatient/Day Case</td>\n",
       "      <td>ANGLIA COMMUNITY EYE SERVICE LTD</td>\n",
       "      <td>63030672</td>\n",
       "      <td>NaN</td>\n",
       "      <td>Very Major, Cataract or Lens Procedures, with ...</td>\n",
       "      <td>2024/25</td>\n",
       "      <td>11</td>\n",
       "      <td>1/27/2025</td>\n",
       "      <td>2/19/2025</td>\n",
       "      <td>1</td>\n",
       "      <td>Yes</td>\n",
       "    </tr>\n",
       "    <tr>\n",
       "      <th>3</th>\n",
       "      <td>BZ31A</td>\n",
       "      <td>Inpatient/Day Case</td>\n",
       "      <td>ANGLIA COMMUNITY EYE SERVICE LTD</td>\n",
       "      <td>62783029</td>\n",
       "      <td>NaN</td>\n",
       "      <td>Very Major, Cataract or Lens Procedures, with ...</td>\n",
       "      <td>2024/25</td>\n",
       "      <td>10</td>\n",
       "      <td>1/20/2025</td>\n",
       "      <td>1/27/2025</td>\n",
       "      <td>1</td>\n",
       "      <td>Yes</td>\n",
       "    </tr>\n",
       "    <tr>\n",
       "      <th>4</th>\n",
       "      <td>BZ31A</td>\n",
       "      <td>Inpatient/Day Case</td>\n",
       "      <td>ANGLIA COMMUNITY EYE SERVICE LTD</td>\n",
       "      <td>62890003</td>\n",
       "      <td>NaN</td>\n",
       "      <td>Very Major, Cataract or Lens Procedures, with ...</td>\n",
       "      <td>2024/25</td>\n",
       "      <td>9</td>\n",
       "      <td>11/5/2024</td>\n",
       "      <td>12/13/2024</td>\n",
       "      <td>1</td>\n",
       "      <td>Yes</td>\n",
       "    </tr>\n",
       "  </tbody>\n",
       "</table>\n",
       "</div>"
      ],
      "text/plain": [
       "     HRG       Activity Type                          Provider  \\\n",
       "0  BZ31A  Inpatient/Day Case  ANGLIA COMMUNITY EYE SERVICE LTD   \n",
       "1  BZ31A  Inpatient/Day Case  ANGLIA COMMUNITY EYE SERVICE LTD   \n",
       "2  BZ31A  Inpatient/Day Case  ANGLIA COMMUNITY EYE SERVICE LTD   \n",
       "3  BZ31A  Inpatient/Day Case  ANGLIA COMMUNITY EYE SERVICE LTD   \n",
       "4  BZ31A  Inpatient/Day Case  ANGLIA COMMUNITY EYE SERVICE LTD   \n",
       "\n",
       "  Local Patient Identifier LSOA  \\\n",
       "0                 62721612  NaN   \n",
       "1                 51568750  NaN   \n",
       "2                 63030672  NaN   \n",
       "3                 62783029  NaN   \n",
       "4                 62890003  NaN   \n",
       "\n",
       "                                     HRG Description Fin Year  Fin Month  \\\n",
       "0  Very Major, Cataract or Lens Procedures, with ...  2024/25          9   \n",
       "1  Very Major, Cataract or Lens Procedures, with ...  2024/25          9   \n",
       "2  Very Major, Cataract or Lens Procedures, with ...  2024/25         11   \n",
       "3  Very Major, Cataract or Lens Procedures, with ...  2024/25         10   \n",
       "4  Very Major, Cataract or Lens Procedures, with ...  2024/25          9   \n",
       "\n",
       "  Start_clock_date End_clock_date  Priority Independent Sector  \n",
       "0       12/18/2024     12/20/2024         1                Yes  \n",
       "1       11/27/2024     12/13/2024         1                Yes  \n",
       "2        1/27/2025      2/19/2025         1                Yes  \n",
       "3        1/20/2025      1/27/2025         1                Yes  \n",
       "4        11/5/2024     12/13/2024         1                Yes  "
      ]
     },
     "execution_count": 6,
     "metadata": {},
     "output_type": "execute_result"
    }
   ],
   "source": [
    "surgery.head()"
   ]
  },
  {
   "cell_type": "code",
   "execution_count": 9,
   "id": "3b6662eb",
   "metadata": {},
   "outputs": [
    {
     "name": "stdout",
     "output_type": "stream",
     "text": [
      "<class 'pandas.core.frame.DataFrame'>\n",
      "RangeIndex: 8674 entries, 0 to 8673\n",
      "Data columns (total 12 columns):\n",
      " #   Column                    Non-Null Count  Dtype         \n",
      "---  ------                    --------------  -----         \n",
      " 0   HRG                       8674 non-null   object        \n",
      " 1   Activity Type             8674 non-null   object        \n",
      " 2   Provider                  8674 non-null   object        \n",
      " 3   Local Patient Identifier  8674 non-null   object        \n",
      " 4   LSOA                      6844 non-null   object        \n",
      " 5   HRG Description           8674 non-null   object        \n",
      " 6   Fin Year                  8674 non-null   object        \n",
      " 7   Fin Month                 8674 non-null   int64         \n",
      " 8   Start_clock_date          8674 non-null   datetime64[ns]\n",
      " 9   End_clock_date            8674 non-null   datetime64[ns]\n",
      " 10  Priority                  8674 non-null   int64         \n",
      " 11  Independent Sector        8674 non-null   object        \n",
      "dtypes: datetime64[ns](2), int64(2), object(8)\n",
      "memory usage: 813.3+ KB\n"
     ]
    }
   ],
   "source": [
    "surgery.info()"
   ]
  },
  {
   "cell_type": "code",
   "execution_count": 8,
   "id": "cf778918",
   "metadata": {},
   "outputs": [],
   "source": [
    "surgery['Start_clock_date'] = pd.to_datetime(surgery['Start_clock_date'])\n",
    "surgery['End_clock_date'] = pd.to_datetime(surgery['End_clock_date'])"
   ]
  },
  {
   "cell_type": "code",
   "execution_count": 10,
   "id": "dfa8e2e1",
   "metadata": {},
   "outputs": [
    {
     "name": "stdout",
     "output_type": "stream",
     "text": [
      "  End_clock_date  count\n",
      "0     2024-04-02     20\n",
      "1     2024-04-03     37\n",
      "2     2024-04-04     41\n",
      "3     2024-04-05     10\n",
      "4     2024-04-06     18\n"
     ]
    }
   ],
   "source": [
    "grouped_data = surgery.groupby('End_clock_date').size().reset_index(name='count')\n",
    "print(grouped_data.head())\n"
   ]
  },
  {
   "cell_type": "code",
   "execution_count": null,
   "id": "d70eee33",
   "metadata": {},
   "outputs": [],
   "source": []
  }
 ],
 "metadata": {
  "kernelspec": {
   "display_name": "base",
   "language": "python",
   "name": "python3"
  },
  "language_info": {
   "codemirror_mode": {
    "name": "ipython",
    "version": 3
   },
   "file_extension": ".py",
   "mimetype": "text/x-python",
   "name": "python",
   "nbconvert_exporter": "python",
   "pygments_lexer": "ipython3",
   "version": "3.12.4"
  }
 },
 "nbformat": 4,
 "nbformat_minor": 5
}
